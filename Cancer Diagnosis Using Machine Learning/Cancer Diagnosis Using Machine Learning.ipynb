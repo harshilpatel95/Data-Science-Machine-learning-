{
  "nbformat": 4,
  "nbformat_minor": 0,
  "metadata": {
    "kernelspec": {
      "display_name": "Python 3",
      "language": "python",
      "name": "python3"
    },
    "language_info": {
      "codemirror_mode": {
        "name": "ipython",
        "version": 3
      },
      "file_extension": ".py",
      "mimetype": "text/x-python",
      "name": "python",
      "nbconvert_exporter": "python",
      "pygments_lexer": "ipython3",
      "version": "3.7.4"
    },
    "colab": {
      "name": "Homework1.ipynb",
      "provenance": []
    }
  },
  "cells": [
    {
      "cell_type": "markdown",
      "metadata": {
        "id": "HGuLnQbic3Tz",
        "colab_type": "text"
      },
      "source": [
        "# Homework1\n",
        "## Cancer Diagnosis Using Machine Learning\n",
        "## Harshil Patel (306646748)"
      ]
    },
    {
      "cell_type": "markdown",
      "metadata": {
        "id": "_duY8zBzc3T1",
        "colab_type": "text"
      },
      "source": [
        "Write and submit your python codes in “Jupyter Notebook” to perform the following tasks. Make sure to provide proper descriptions as MarkDown for each section of your code.\n",
        "In this homework, we again work with a real dataset from UCI Dataset."
      ]
    },
    {
      "cell_type": "markdown",
      "metadata": {
        "id": "Eua6dNU8c3T3",
        "colab_type": "text"
      },
      "source": [
        "a- Read the dataset file “Cancer.csv” (from github using the following command), and assign it to a Pandas DataFrame:\n",
        "df = pd.read_csv(\"https://github.com/mpourhoma/CS4662/raw/master/Cancer.csv\") Check out the dataset. As you see, the dataset includes 9 numerical features. The last column is the binary label (“1” means it is a malignant cancer, “0” means it is a benign tumor). You will use all 9 features in this homework."
      ]
    },
    {
      "cell_type": "code",
      "metadata": {
        "id": "j2ANu24Pc3T4",
        "colab_type": "code",
        "colab": {
          "base_uri": "https://localhost:8080/",
          "height": 439
        },
        "outputId": "5563dd23-8420-42e4-9c89-5bb8fb4a23e0"
      },
      "source": [
        "import pandas as pd # import package panda and save as pd\n",
        "\n",
        "Cancer_df = pd.read_csv('https://github.com/mpourhoma/CS4662/raw/master/Cancer.csv') # reading a CSV file directly from Local device, and save as df\n",
        "\n",
        "Cancer_df"
      ],
      "execution_count": 1,
      "outputs": [
        {
          "output_type": "execute_result",
          "data": {
            "text/html": [
              "<div>\n",
              "<style scoped>\n",
              "    .dataframe tbody tr th:only-of-type {\n",
              "        vertical-align: middle;\n",
              "    }\n",
              "\n",
              "    .dataframe tbody tr th {\n",
              "        vertical-align: top;\n",
              "    }\n",
              "\n",
              "    .dataframe thead th {\n",
              "        text-align: right;\n",
              "    }\n",
              "</style>\n",
              "<table border=\"1\" class=\"dataframe\">\n",
              "  <thead>\n",
              "    <tr style=\"text-align: right;\">\n",
              "      <th></th>\n",
              "      <th>Clump_Thickness</th>\n",
              "      <th>Uniformity_of_Cell_Size</th>\n",
              "      <th>Uniformity_of_Cell_Shape</th>\n",
              "      <th>Marginal_Adhesion</th>\n",
              "      <th>Single_Epithelial_Cell_Size</th>\n",
              "      <th>Bare_Nuclei</th>\n",
              "      <th>Bland_Chromatin</th>\n",
              "      <th>Normal_Nucleoli</th>\n",
              "      <th>Mitoses</th>\n",
              "      <th>Malignant_Cancer</th>\n",
              "    </tr>\n",
              "  </thead>\n",
              "  <tbody>\n",
              "    <tr>\n",
              "      <th>0</th>\n",
              "      <td>5</td>\n",
              "      <td>1</td>\n",
              "      <td>1</td>\n",
              "      <td>1</td>\n",
              "      <td>2</td>\n",
              "      <td>1</td>\n",
              "      <td>3</td>\n",
              "      <td>1</td>\n",
              "      <td>1</td>\n",
              "      <td>0</td>\n",
              "    </tr>\n",
              "    <tr>\n",
              "      <th>1</th>\n",
              "      <td>5</td>\n",
              "      <td>4</td>\n",
              "      <td>4</td>\n",
              "      <td>5</td>\n",
              "      <td>7</td>\n",
              "      <td>10</td>\n",
              "      <td>3</td>\n",
              "      <td>2</td>\n",
              "      <td>1</td>\n",
              "      <td>0</td>\n",
              "    </tr>\n",
              "    <tr>\n",
              "      <th>2</th>\n",
              "      <td>3</td>\n",
              "      <td>1</td>\n",
              "      <td>1</td>\n",
              "      <td>1</td>\n",
              "      <td>2</td>\n",
              "      <td>2</td>\n",
              "      <td>3</td>\n",
              "      <td>1</td>\n",
              "      <td>1</td>\n",
              "      <td>0</td>\n",
              "    </tr>\n",
              "    <tr>\n",
              "      <th>3</th>\n",
              "      <td>6</td>\n",
              "      <td>8</td>\n",
              "      <td>8</td>\n",
              "      <td>1</td>\n",
              "      <td>3</td>\n",
              "      <td>4</td>\n",
              "      <td>3</td>\n",
              "      <td>7</td>\n",
              "      <td>1</td>\n",
              "      <td>0</td>\n",
              "    </tr>\n",
              "    <tr>\n",
              "      <th>4</th>\n",
              "      <td>4</td>\n",
              "      <td>1</td>\n",
              "      <td>1</td>\n",
              "      <td>3</td>\n",
              "      <td>2</td>\n",
              "      <td>1</td>\n",
              "      <td>3</td>\n",
              "      <td>1</td>\n",
              "      <td>1</td>\n",
              "      <td>0</td>\n",
              "    </tr>\n",
              "    <tr>\n",
              "      <th>...</th>\n",
              "      <td>...</td>\n",
              "      <td>...</td>\n",
              "      <td>...</td>\n",
              "      <td>...</td>\n",
              "      <td>...</td>\n",
              "      <td>...</td>\n",
              "      <td>...</td>\n",
              "      <td>...</td>\n",
              "      <td>...</td>\n",
              "      <td>...</td>\n",
              "    </tr>\n",
              "    <tr>\n",
              "      <th>145</th>\n",
              "      <td>3</td>\n",
              "      <td>1</td>\n",
              "      <td>1</td>\n",
              "      <td>1</td>\n",
              "      <td>2</td>\n",
              "      <td>1</td>\n",
              "      <td>2</td>\n",
              "      <td>1</td>\n",
              "      <td>1</td>\n",
              "      <td>0</td>\n",
              "    </tr>\n",
              "    <tr>\n",
              "      <th>146</th>\n",
              "      <td>9</td>\n",
              "      <td>7</td>\n",
              "      <td>7</td>\n",
              "      <td>5</td>\n",
              "      <td>5</td>\n",
              "      <td>10</td>\n",
              "      <td>7</td>\n",
              "      <td>8</td>\n",
              "      <td>3</td>\n",
              "      <td>1</td>\n",
              "    </tr>\n",
              "    <tr>\n",
              "      <th>147</th>\n",
              "      <td>10</td>\n",
              "      <td>8</td>\n",
              "      <td>8</td>\n",
              "      <td>4</td>\n",
              "      <td>10</td>\n",
              "      <td>10</td>\n",
              "      <td>8</td>\n",
              "      <td>1</td>\n",
              "      <td>1</td>\n",
              "      <td>1</td>\n",
              "    </tr>\n",
              "    <tr>\n",
              "      <th>148</th>\n",
              "      <td>1</td>\n",
              "      <td>1</td>\n",
              "      <td>1</td>\n",
              "      <td>1</td>\n",
              "      <td>2</td>\n",
              "      <td>1</td>\n",
              "      <td>3</td>\n",
              "      <td>1</td>\n",
              "      <td>1</td>\n",
              "      <td>0</td>\n",
              "    </tr>\n",
              "    <tr>\n",
              "      <th>149</th>\n",
              "      <td>5</td>\n",
              "      <td>1</td>\n",
              "      <td>1</td>\n",
              "      <td>1</td>\n",
              "      <td>2</td>\n",
              "      <td>1</td>\n",
              "      <td>3</td>\n",
              "      <td>1</td>\n",
              "      <td>1</td>\n",
              "      <td>0</td>\n",
              "    </tr>\n",
              "  </tbody>\n",
              "</table>\n",
              "<p>150 rows × 10 columns</p>\n",
              "</div>"
            ],
            "text/plain": [
              "     Clump_Thickness  Uniformity_of_Cell_Size  ...  Mitoses  Malignant_Cancer\n",
              "0                  5                        1  ...        1                 0\n",
              "1                  5                        4  ...        1                 0\n",
              "2                  3                        1  ...        1                 0\n",
              "3                  6                        8  ...        1                 0\n",
              "4                  4                        1  ...        1                 0\n",
              "..               ...                      ...  ...      ...               ...\n",
              "145                3                        1  ...        1                 0\n",
              "146                9                        7  ...        3                 1\n",
              "147               10                        8  ...        1                 1\n",
              "148                1                        1  ...        1                 0\n",
              "149                5                        1  ...        1                 0\n",
              "\n",
              "[150 rows x 10 columns]"
            ]
          },
          "metadata": {
            "tags": []
          },
          "execution_count": 1
        }
      ]
    },
    {
      "cell_type": "markdown",
      "metadata": {
        "id": "5avh_89Pc3T-",
        "colab_type": "text"
      },
      "source": [
        "b- Use sklearn functions to split the dataset into testing and training sets with the following parameters: test_size=0.3, random_state=2."
      ]
    },
    {
      "cell_type": "code",
      "metadata": {
        "id": "HnCP6IWJc3T_",
        "colab_type": "code",
        "colab": {
          "base_uri": "https://localhost:8080/",
          "height": 238
        },
        "outputId": "c03d7f50-89bb-4e6b-ec57-1c9225bfd122"
      },
      "source": [
        "# Creating Feature Matrix\n",
        "feature_cols = ['Clump_Thickness', 'Uniformity_of_Cell_Size', 'Uniformity_of_Cell_Shape', 'Marginal_Adhesion', 'Single_Epithelial_Cell_Size', 'Bare_Nuclei', 'Bland_Chromatin', 'Normal_Nucleoli', 'Mitoses']\n",
        "\n",
        "\n",
        "A = Cancer_df[feature_cols]\n",
        "    \n",
        "print(A.shape)\n",
        "\n",
        "f = Cancer_df['Malignant_Cancer'] \n",
        "print(f)"
      ],
      "execution_count": 2,
      "outputs": [
        {
          "output_type": "stream",
          "text": [
            "(150, 9)\n",
            "0      0\n",
            "1      0\n",
            "2      0\n",
            "3      0\n",
            "4      0\n",
            "      ..\n",
            "145    0\n",
            "146    1\n",
            "147    1\n",
            "148    0\n",
            "149    0\n",
            "Name: Malignant_Cancer, Length: 150, dtype: int64\n"
          ],
          "name": "stdout"
        }
      ]
    },
    {
      "cell_type": "code",
      "metadata": {
        "id": "P1PyjQn6c3UC",
        "colab_type": "code",
        "colab": {}
      },
      "source": [
        "from sklearn.model_selection import train_test_split\n",
        "\n",
        "A_train,A_test,f_train,f_test = train_test_split (A, f, test_size=0.3, random_state=2) #split the data basis on"
      ],
      "execution_count": 0,
      "outputs": []
    },
    {
      "cell_type": "markdown",
      "metadata": {
        "id": "4PAoqAGVc3UE",
        "colab_type": "text"
      },
      "source": [
        "c- Use “Decision Tree Classifier” to predict Cancer based on the training/testing datasets that you built in part (h). Then, calculate and report the accuracy and AUC of your classifier. Later in part (g), you will plot the ROC curve as well. Use this command to define your tree: my_DecisionTree = DecisionTreeClassifier(random_state=2)."
      ]
    },
    {
      "cell_type": "code",
      "metadata": {
        "id": "TkSXC22wc3UF",
        "colab_type": "code",
        "colab": {
          "base_uri": "https://localhost:8080/",
          "height": 119
        },
        "outputId": "c715b568-ef50-4a81-cf1b-ffb78f89daac"
      },
      "source": [
        "# import DecisionTreeClassifier.\n",
        "\n",
        "from sklearn.tree import DecisionTreeClassifier \n",
        "\n",
        "my_DecisionTree = DecisionTreeClassifier(random_state=2) \n",
        "my_DecisionTree.fit(A_train, f_train)"
      ],
      "execution_count": 4,
      "outputs": [
        {
          "output_type": "execute_result",
          "data": {
            "text/plain": [
              "DecisionTreeClassifier(ccp_alpha=0.0, class_weight=None, criterion='gini',\n",
              "                       max_depth=None, max_features=None, max_leaf_nodes=None,\n",
              "                       min_impurity_decrease=0.0, min_impurity_split=None,\n",
              "                       min_samples_leaf=1, min_samples_split=2,\n",
              "                       min_weight_fraction_leaf=0.0, presort='deprecated',\n",
              "                       random_state=2, splitter='best')"
            ]
          },
          "metadata": {
            "tags": []
          },
          "execution_count": 4
        }
      ]
    },
    {
      "cell_type": "code",
      "metadata": {
        "id": "bldSbbFhc3UI",
        "colab_type": "code",
        "colab": {
          "base_uri": "https://localhost:8080/",
          "height": 51
        },
        "outputId": "ab2c15a7-331b-40c0-c886-a4f9fb69166f"
      },
      "source": [
        "f_predict = my_DecisionTree.predict(A_test)\n",
        "\n",
        "print(f_predict)"
      ],
      "execution_count": 5,
      "outputs": [
        {
          "output_type": "stream",
          "text": [
            "[0 1 1 1 1 1 1 1 0 0 1 1 1 1 1 1 0 1 0 1 0 0 0 0 0 1 0 0 0 1 0 1 1 0 1 0 0\n",
            " 1 1 0 1 1 0 1 1]\n"
          ],
          "name": "stdout"
        }
      ]
    },
    {
      "cell_type": "code",
      "metadata": {
        "id": "ciSk1xlac3UK",
        "colab_type": "code",
        "colab": {
          "base_uri": "https://localhost:8080/",
          "height": 34
        },
        "outputId": "b1774302-d7e2-4347-ae86-5b2e0c2f56a6"
      },
      "source": [
        "# import accuracy_score from sklearn.metrics\n",
        "from sklearn.metrics import accuracy_score \n",
        "\n",
        "dt_accuracy = accuracy_score(f_test, f_predict)\n",
        "\n",
        "print(dt_accuracy)"
      ],
      "execution_count": 6,
      "outputs": [
        {
          "output_type": "stream",
          "text": [
            "0.8666666666666667\n"
          ],
          "name": "stdout"
        }
      ]
    },
    {
      "cell_type": "code",
      "metadata": {
        "id": "SmLJJgYkc3UN",
        "colab_type": "code",
        "colab": {}
      },
      "source": [
        "#predict Binary model\n",
        "predict_dt = my_DecisionTree.predict(A_test) \n",
        "predict_prob_dt = my_DecisionTree.predict_proba(A_test) "
      ],
      "execution_count": 0,
      "outputs": []
    },
    {
      "cell_type": "code",
      "metadata": {
        "id": "i5nOuHeNc3UP",
        "colab_type": "code",
        "colab": {
          "base_uri": "https://localhost:8080/",
          "height": 119
        },
        "outputId": "5540bd70-e7a4-4d1d-82d1-09c4a3742bb1"
      },
      "source": [
        "from sklearn import metrics\n",
        "\n",
        "dt_fpr, dt_tpr, thresholds = metrics.roc_curve(f_test, predict_prob_dt[:,1], pos_label=1)\n",
        "print(\"False Positive Rate\")\n",
        "print(dt_fpr)\n",
        "\n",
        "print(\"True Positive Rate\")\n",
        "print(dt_tpr)\n",
        "\n",
        "print(\"Area Under the Curve (AUC)\")\n",
        "DecisionTree_AUC = metrics.auc(dt_fpr, dt_tpr)\n",
        "print(DecisionTree_AUC)"
      ],
      "execution_count": 8,
      "outputs": [
        {
          "output_type": "stream",
          "text": [
            "False Positive Rate\n",
            "[0.         0.11764706 1.        ]\n",
            "True Positive Rate\n",
            "[0.         0.85714286 1.        ]\n",
            "Area Under the Curve (AUC)\n",
            "0.8697478991596639\n"
          ],
          "name": "stdout"
        }
      ]
    },
    {
      "cell_type": "markdown",
      "metadata": {
        "id": "qpgJWxOuc3UQ",
        "colab_type": "text"
      },
      "source": [
        "d- Now, we want to perform “Bagging” based on 29 “base decision tree classifiers”.\n",
        "\n",
        "Note: you should write your own code to perform Bagging (don’t use scikit-learn functions for Bagging!)\n",
        "\n",
        "To do so, you need to perform bootstrapping first. You can write a “for” loop with loop variable i=0...18. In each iteration of the loop, you have to:\n",
        "- make a bootstarp sample of the original “Training” Dataset (build in part(b)) with size\n",
        "of bootstarp_size = 0.8*(Size of the original dataset). You can use the following command to generate a random bootstrap dataset (“i\" is the variable of the loop, so the random_state changes in each iteration):\n",
        "resample(X_train, n_samples = bootstarp_size , random_state=i , replace = True)\n",
        "- Define and train a new base decision tree classifier on this dataset in each iteration:\n",
        "Base_DecisionTree = DecisionTreeClassifier(random_state=2).\n",
        "- Test “this base classifier” on the original “Testing” Dataset build in part(b), and save the prediction results for all testing samples.\n"
      ]
    },
    {
      "cell_type": "markdown",
      "metadata": {
        "id": "n2Za0jhSc3UR",
        "colab_type": "text"
      },
      "source": [
        "Then, Perform Voting to make the final decision on each data sample based on the votes of all 29 classifiers. Finally, calculate and report the accuracy and AUC of your Bagging method."
      ]
    },
    {
      "cell_type": "markdown",
      "metadata": {
        "id": "veQNfV-9c3UR",
        "colab_type": "text"
      },
      "source": [
        "NOTE: You need to calculate the probability of “malignant cancer” to be able to find AUC and plot the ROC curve. As mentioned in the class, you can consider the average (mean) of the votes as the probability for each sample."
      ]
    },
    {
      "cell_type": "code",
      "metadata": {
        "id": "IV_1AxvXc3US",
        "colab_type": "code",
        "colab": {
          "base_uri": "https://localhost:8080/",
          "height": 1000
        },
        "outputId": "840d614d-87ab-4e01-8ce2-8af7656b4446"
      },
      "source": [
        "from sklearn.utils import resample\n",
        "\n",
        "bootstrap_size = int(0.8*len(A_train))\n",
        "prediction = []\n",
        "result = []\n",
        "\n",
        "for i in range(0,29):\n",
        "    a_bag, f_bag = resample(A_train, f_train, n_samples = bootstrap_size , random_state=i , replace = True)\n",
        "    Base_DecisionTree = DecisionTreeClassifier(random_state=2)\n",
        "    Base_DecisionTree.fit(a_bag, f_bag)\n",
        "    prediction.append(Base_DecisionTree.predict(A_test))\n",
        "    result.append(Base_DecisionTree.predict_proba(A_test))\n",
        "prediction"
      ],
      "execution_count": 9,
      "outputs": [
        {
          "output_type": "execute_result",
          "data": {
            "text/plain": [
              "[array([0, 1, 1, 1, 1, 1, 1, 0, 0, 1, 1, 1, 1, 1, 0, 0, 0, 1, 0, 1, 0, 0,\n",
              "        0, 1, 0, 1, 0, 0, 0, 1, 0, 1, 1, 0, 1, 1, 0, 0, 1, 0, 1, 1, 0, 1,\n",
              "        1]),\n",
              " array([0, 1, 1, 1, 1, 1, 1, 1, 0, 0, 1, 1, 1, 1, 1, 1, 0, 1, 0, 1, 0, 0,\n",
              "        0, 0, 1, 1, 0, 0, 0, 1, 0, 1, 1, 0, 1, 0, 1, 1, 1, 0, 1, 1, 0, 1,\n",
              "        1]),\n",
              " array([0, 1, 1, 1, 1, 1, 1, 1, 0, 0, 1, 1, 1, 1, 1, 1, 0, 1, 0, 1, 0, 0,\n",
              "        0, 0, 0, 1, 0, 0, 0, 1, 0, 1, 1, 0, 1, 0, 0, 1, 1, 0, 1, 1, 0, 1,\n",
              "        1]),\n",
              " array([0, 1, 1, 1, 1, 1, 1, 1, 0, 0, 1, 1, 1, 1, 0, 0, 0, 0, 0, 1, 0, 0,\n",
              "        0, 0, 1, 1, 0, 0, 0, 0, 0, 1, 1, 0, 1, 0, 1, 0, 1, 0, 1, 1, 0, 1,\n",
              "        1]),\n",
              " array([0, 1, 1, 0, 0, 1, 0, 1, 0, 0, 1, 1, 1, 1, 0, 0, 0, 0, 0, 1, 0, 0,\n",
              "        0, 0, 1, 1, 0, 0, 0, 0, 0, 1, 1, 0, 0, 0, 1, 0, 1, 0, 1, 1, 0, 1,\n",
              "        1]),\n",
              " array([0, 1, 1, 0, 0, 1, 0, 1, 0, 1, 1, 0, 1, 1, 1, 1, 0, 1, 0, 1, 0, 0,\n",
              "        0, 1, 1, 1, 0, 0, 0, 1, 0, 1, 1, 0, 1, 1, 1, 1, 1, 0, 1, 1, 0, 1,\n",
              "        1]),\n",
              " array([0, 1, 1, 1, 1, 1, 1, 1, 0, 1, 1, 1, 1, 1, 0, 0, 0, 0, 0, 1, 0, 0,\n",
              "        0, 0, 1, 1, 0, 0, 0, 1, 0, 1, 1, 0, 1, 1, 1, 1, 1, 0, 1, 1, 0, 1,\n",
              "        1]),\n",
              " array([0, 1, 1, 1, 0, 1, 1, 1, 0, 0, 1, 1, 1, 1, 1, 1, 0, 1, 0, 1, 0, 0,\n",
              "        0, 0, 0, 1, 0, 0, 0, 1, 0, 1, 1, 0, 1, 0, 0, 1, 1, 0, 1, 1, 0, 1,\n",
              "        1]),\n",
              " array([0, 1, 1, 1, 1, 1, 1, 1, 0, 0, 0, 1, 1, 1, 1, 1, 0, 1, 0, 1, 0, 0,\n",
              "        0, 0, 1, 1, 0, 0, 0, 1, 0, 1, 1, 0, 1, 0, 1, 1, 1, 0, 1, 1, 0, 1,\n",
              "        1]),\n",
              " array([0, 1, 1, 0, 0, 1, 0, 0, 0, 1, 1, 1, 1, 1, 1, 1, 0, 1, 0, 1, 0, 0,\n",
              "        0, 1, 1, 1, 0, 0, 0, 0, 0, 1, 1, 0, 0, 0, 1, 1, 0, 0, 1, 1, 0, 1,\n",
              "        1]),\n",
              " array([0, 1, 1, 1, 1, 1, 1, 1, 0, 0, 1, 1, 1, 1, 1, 0, 0, 0, 0, 1, 0, 0,\n",
              "        0, 0, 0, 1, 0, 0, 0, 1, 0, 1, 1, 0, 1, 0, 0, 0, 1, 0, 1, 1, 0, 1,\n",
              "        1]),\n",
              " array([1, 1, 1, 1, 1, 1, 1, 1, 0, 0, 1, 1, 1, 1, 0, 0, 0, 0, 0, 1, 0, 0,\n",
              "        0, 0, 1, 1, 0, 0, 0, 1, 0, 1, 1, 0, 1, 1, 1, 0, 1, 0, 1, 1, 0, 1,\n",
              "        1]),\n",
              " array([0, 1, 1, 1, 1, 1, 1, 1, 0, 1, 1, 1, 1, 1, 1, 1, 0, 1, 0, 1, 0, 0,\n",
              "        0, 1, 0, 1, 0, 0, 0, 1, 0, 1, 1, 0, 1, 0, 0, 1, 0, 0, 1, 1, 0, 1,\n",
              "        1]),\n",
              " array([0, 1, 1, 1, 1, 1, 1, 1, 0, 1, 1, 1, 1, 1, 0, 0, 0, 1, 0, 0, 0, 0,\n",
              "        0, 1, 1, 1, 0, 0, 0, 1, 0, 1, 1, 0, 1, 1, 1, 1, 1, 0, 1, 1, 0, 1,\n",
              "        1]),\n",
              " array([0, 1, 1, 1, 1, 1, 1, 1, 0, 1, 1, 1, 1, 1, 1, 1, 0, 1, 0, 1, 0, 0,\n",
              "        0, 1, 0, 1, 0, 0, 0, 1, 0, 1, 1, 0, 1, 1, 0, 1, 1, 0, 1, 1, 0, 1,\n",
              "        1]),\n",
              " array([0, 1, 1, 1, 1, 1, 1, 0, 0, 0, 1, 1, 1, 1, 0, 0, 0, 0, 0, 1, 0, 0,\n",
              "        0, 0, 1, 1, 0, 0, 0, 0, 0, 1, 1, 0, 1, 0, 1, 0, 1, 0, 1, 1, 0, 1,\n",
              "        1]),\n",
              " array([0, 1, 1, 1, 1, 1, 1, 1, 0, 0, 1, 1, 1, 1, 1, 0, 0, 0, 0, 1, 0, 0,\n",
              "        0, 1, 0, 1, 0, 0, 0, 1, 0, 1, 1, 0, 1, 1, 0, 0, 1, 0, 1, 1, 0, 1,\n",
              "        1]),\n",
              " array([0, 1, 1, 1, 1, 1, 1, 1, 0, 0, 1, 1, 1, 1, 1, 1, 0, 1, 0, 0, 0, 0,\n",
              "        0, 0, 1, 1, 0, 0, 0, 1, 0, 1, 1, 0, 1, 0, 1, 1, 1, 0, 1, 1, 0, 1,\n",
              "        1]),\n",
              " array([0, 1, 1, 0, 0, 1, 1, 1, 0, 0, 1, 1, 1, 1, 1, 1, 0, 0, 0, 1, 0, 0,\n",
              "        0, 1, 0, 1, 0, 0, 0, 1, 0, 1, 1, 0, 1, 1, 0, 1, 1, 0, 1, 1, 0, 1,\n",
              "        1]),\n",
              " array([0, 1, 1, 1, 0, 1, 1, 1, 0, 0, 1, 1, 1, 1, 1, 0, 0, 1, 0, 1, 0, 0,\n",
              "        0, 1, 0, 1, 1, 0, 0, 1, 0, 1, 1, 0, 1, 1, 0, 1, 1, 0, 1, 1, 0, 1,\n",
              "        1]),\n",
              " array([0, 1, 1, 1, 1, 1, 1, 1, 0, 1, 1, 1, 1, 1, 1, 1, 0, 1, 0, 1, 0, 0,\n",
              "        0, 1, 1, 1, 0, 0, 0, 1, 0, 1, 1, 0, 1, 1, 1, 1, 1, 0, 1, 1, 0, 1,\n",
              "        1]),\n",
              " array([0, 1, 1, 1, 1, 1, 1, 1, 0, 0, 1, 1, 1, 1, 0, 1, 0, 0, 0, 0, 0, 0,\n",
              "        0, 0, 1, 1, 0, 0, 0, 0, 0, 1, 1, 0, 1, 0, 1, 0, 1, 0, 1, 1, 0, 1,\n",
              "        1]),\n",
              " array([1, 1, 1, 1, 1, 1, 1, 1, 0, 1, 1, 1, 1, 1, 1, 1, 0, 1, 0, 1, 0, 0,\n",
              "        0, 0, 1, 1, 0, 0, 0, 1, 0, 1, 1, 0, 1, 1, 1, 1, 1, 0, 1, 1, 0, 1,\n",
              "        1]),\n",
              " array([0, 1, 1, 1, 1, 1, 1, 1, 0, 0, 1, 1, 1, 1, 1, 1, 0, 1, 0, 1, 0, 0,\n",
              "        0, 0, 1, 1, 0, 0, 0, 0, 0, 1, 1, 0, 1, 0, 1, 1, 1, 0, 1, 1, 0, 1,\n",
              "        1]),\n",
              " array([0, 1, 1, 1, 1, 1, 1, 0, 0, 1, 1, 1, 1, 1, 0, 0, 0, 1, 0, 0, 0, 0,\n",
              "        0, 1, 0, 1, 0, 0, 0, 1, 0, 1, 1, 0, 1, 1, 0, 0, 1, 0, 1, 1, 0, 1,\n",
              "        1]),\n",
              " array([0, 1, 1, 1, 1, 1, 1, 1, 0, 0, 1, 1, 1, 1, 1, 1, 0, 1, 0, 1, 0, 0,\n",
              "        0, 0, 0, 1, 0, 0, 0, 1, 0, 1, 1, 0, 1, 0, 0, 1, 1, 0, 1, 1, 0, 1,\n",
              "        1]),\n",
              " array([0, 1, 1, 1, 1, 1, 1, 1, 0, 0, 1, 1, 1, 1, 1, 1, 0, 1, 0, 1, 0, 0,\n",
              "        0, 0, 0, 1, 0, 0, 0, 1, 0, 1, 1, 0, 1, 0, 0, 1, 1, 0, 1, 1, 0, 1,\n",
              "        1]),\n",
              " array([0, 1, 1, 1, 1, 1, 1, 1, 0, 0, 1, 1, 1, 1, 1, 0, 0, 1, 0, 0, 0, 0,\n",
              "        0, 0, 0, 1, 0, 0, 0, 1, 0, 1, 1, 0, 1, 0, 0, 0, 1, 0, 1, 1, 0, 1,\n",
              "        1]),\n",
              " array([0, 1, 1, 1, 1, 1, 1, 1, 0, 1, 1, 1, 1, 1, 0, 1, 0, 0, 0, 0, 0, 0,\n",
              "        0, 0, 1, 1, 0, 0, 0, 1, 0, 1, 1, 0, 1, 1, 1, 0, 1, 0, 1, 1, 0, 1,\n",
              "        1])]"
            ]
          },
          "metadata": {
            "tags": []
          },
          "execution_count": 9
        }
      ]
    },
    {
      "cell_type": "code",
      "metadata": {
        "id": "ppjPys--c3UU",
        "colab_type": "code",
        "colab": {
          "base_uri": "https://localhost:8080/",
          "height": 34
        },
        "outputId": "0818d178-e682-4d67-8b33-03e7b6928608"
      },
      "source": [
        "votes = prediction[28]\n",
        "for i in range(0,18):\n",
        "    votes = votes + prediction[i]\n",
        "predictions = []\n",
        "for i in range(votes.size):\n",
        "    if(votes[i] >= 10):\n",
        "        predictions.append(1)\n",
        "    else:\n",
        "        predictions.append(0)\n",
        "bagging_accuracy = accuracy_score(f_test,predictions)\n",
        "print(bagging_accuracy)"
      ],
      "execution_count": 10,
      "outputs": [
        {
          "output_type": "stream",
          "text": [
            "0.9111111111111111\n"
          ],
          "name": "stdout"
        }
      ]
    },
    {
      "cell_type": "code",
      "metadata": {
        "id": "eVt7hSf0c3UW",
        "colab_type": "code",
        "colab": {
          "base_uri": "https://localhost:8080/",
          "height": 187
        },
        "outputId": "d2f28cf2-fec7-416e-be2b-6cd0543be372"
      },
      "source": [
        "proba = result[28]\n",
        "for i in range(28):\n",
        "    proba += result[i]\n",
        "for i in range(len(proba)):\n",
        "    proba[i] = proba[i]/29\n",
        "    \n",
        "bagging_fpr, bagging_tpr, thresholds = metrics.roc_curve(f_test, proba[:,1], pos_label=1)\n",
        "print(\"False Positive Rate\")\n",
        "print(bagging_fpr)\n",
        "\n",
        "print(\"True Positive Rate\")\n",
        "print(bagging_tpr)\n",
        "\n",
        "print(\"Area Under the Curve (AUC)\")\n",
        "Bagging_AUC = metrics.auc(bagging_fpr, bagging_tpr)\n",
        "print(Bagging_AUC)"
      ],
      "execution_count": 11,
      "outputs": [
        {
          "output_type": "stream",
          "text": [
            "False Positive Rate\n",
            "[0.         0.05882353 0.05882353 0.05882353 0.05882353 0.05882353\n",
            " 0.11764706 0.11764706 0.11764706 0.11764706 0.17647059 0.29411765\n",
            " 1.        ]\n",
            "True Positive Rate\n",
            "[0.         0.39285714 0.53571429 0.57142857 0.64285714 0.75\n",
            " 0.78571429 0.85714286 0.92857143 0.96428571 1.         1.\n",
            " 1.        ]\n",
            "Area Under the Curve (AUC)\n",
            "0.9380252100840336\n"
          ],
          "name": "stdout"
        }
      ]
    },
    {
      "cell_type": "markdown",
      "metadata": {
        "id": "otc33paEc3UX",
        "colab_type": "text"
      },
      "source": [
        "e- Use scikit-learn “Adaboost” classifier to predict Cancer based on the training/testing datasets that you built in part (b). Then, calculate and report the accuracy and AUC of your classifier. Use this command to import and define your classifier:\n",
        "from sklearn.ensemble import AdaBoostClassifier\n",
        "my_AdaBoost = AdaBoostClassifier(n_estimators = 29,random_state=2)"
      ]
    },
    {
      "cell_type": "code",
      "metadata": {
        "id": "Zhwc1nofc3UY",
        "colab_type": "code",
        "colab": {
          "base_uri": "https://localhost:8080/",
          "height": 51
        },
        "outputId": "de4ca357-0f1d-468e-f41b-0f56bb3bd512"
      },
      "source": [
        "from sklearn.ensemble import AdaBoostClassifier\n",
        "my_AdaBoost = AdaBoostClassifier(n_estimators = 29,random_state=2)\n",
        "my_AdaBoost.fit(A_train, f_train)"
      ],
      "execution_count": 12,
      "outputs": [
        {
          "output_type": "execute_result",
          "data": {
            "text/plain": [
              "AdaBoostClassifier(algorithm='SAMME.R', base_estimator=None, learning_rate=1.0,\n",
              "                   n_estimators=29, random_state=2)"
            ]
          },
          "metadata": {
            "tags": []
          },
          "execution_count": 12
        }
      ]
    },
    {
      "cell_type": "code",
      "metadata": {
        "id": "YCA6XmtSc3UZ",
        "colab_type": "code",
        "colab": {
          "base_uri": "https://localhost:8080/",
          "height": 51
        },
        "outputId": "49e4b57b-1114-4fb0-a77a-a5c78249551d"
      },
      "source": [
        "f_predict = my_AdaBoost.predict(A_test)\n",
        "print(f_predict)"
      ],
      "execution_count": 13,
      "outputs": [
        {
          "output_type": "stream",
          "text": [
            "[0 1 1 1 1 1 1 1 0 0 1 1 1 1 1 1 0 0 0 1 0 0 0 0 1 1 0 0 0 1 0 1 1 0 1 1 1\n",
            " 1 1 0 1 1 0 1 1]\n"
          ],
          "name": "stdout"
        }
      ]
    },
    {
      "cell_type": "code",
      "metadata": {
        "id": "FF5fhfMpc3Ub",
        "colab_type": "code",
        "colab": {
          "base_uri": "https://localhost:8080/",
          "height": 34
        },
        "outputId": "95039868-95a8-40d8-cc66-7f9bb82f487c"
      },
      "source": [
        "adaboost_accuracy = accuracy_score(f_test, f_predict)\n",
        "print(adaboost_accuracy)"
      ],
      "execution_count": 14,
      "outputs": [
        {
          "output_type": "stream",
          "text": [
            "0.9555555555555556\n"
          ],
          "name": "stdout"
        }
      ]
    },
    {
      "cell_type": "code",
      "metadata": {
        "id": "7kNxxmOOc3Uc",
        "colab_type": "code",
        "colab": {}
      },
      "source": [
        "#predict Binary model\n",
        "predict_adaboost = my_AdaBoost.predict(A_test) \n",
        "predict_prob_adaboost = my_AdaBoost.predict_proba(A_test) "
      ],
      "execution_count": 0,
      "outputs": []
    },
    {
      "cell_type": "code",
      "metadata": {
        "id": "nqfEQvMCc3Ud",
        "colab_type": "code",
        "colab": {
          "base_uri": "https://localhost:8080/",
          "height": 187
        },
        "outputId": "ef654a62-6f66-4fdb-b061-494dc0fc75ff"
      },
      "source": [
        "from sklearn import metrics\n",
        "\n",
        "adab_fpr, adab_tpr, thresholds = metrics.roc_curve(f_test, predict_prob_adaboost[:,1], pos_label=1)\n",
        "print(\"False Positive Rate\")\n",
        "print(adab_fpr)\n",
        "\n",
        "print(\"True Positive Rate\")\n",
        "print(adab_tpr)\n",
        "\n",
        "print(\"Area Under the Curve (AUC)\")\n",
        "Adaboost_AUC = metrics.auc(adab_fpr, adab_tpr)\n",
        "print(Adaboost_AUC)"
      ],
      "execution_count": 16,
      "outputs": [
        {
          "output_type": "stream",
          "text": [
            "False Positive Rate\n",
            "[0.         0.         0.         0.         0.         0.\n",
            " 0.         0.05882353 0.05882353 0.11764706 0.11764706 0.35294118\n",
            " 0.52941176 1.        ]\n",
            "True Positive Rate\n",
            "[0.         0.03571429 0.10714286 0.21428571 0.25       0.35714286\n",
            " 0.42857143 0.46428571 0.96428571 0.96428571 1.         1.\n",
            " 1.         1.        ]\n",
            "Area Under the Curve (AUC)\n",
            "0.9653361344537815\n"
          ],
          "name": "stdout"
        }
      ]
    },
    {
      "cell_type": "markdown",
      "metadata": {
        "id": "dMqVZ18pc3Uf",
        "colab_type": "text"
      },
      "source": [
        "f- In this section, we use an extremely popular Boosting algorithm called “XGBoost”. This algorithm is not included in sklearn, so you need to install the XGBoost library. Please see this for more infor: https://xgboost.readthedocs.io/en/latest/build.html\n",
        "Mac users can easily install it with “pip install xgboost”.\n",
        "Repeat part (e) with XGBoost. Use this command to import and define your classifier:\n",
        "from xgboost import XGBClassifier\n",
        "my_XGBoost = XGBClassifier(n_estimators = 29,random_state=2)"
      ]
    },
    {
      "cell_type": "code",
      "metadata": {
        "id": "yfR55zsLc3Uf",
        "colab_type": "code",
        "colab": {
          "base_uri": "https://localhost:8080/",
          "height": 136
        },
        "outputId": "50753536-e7df-4c17-f0ec-5c44c0e6ad3e"
      },
      "source": [
        "from xgboost import XGBClassifier\n",
        "my_XGBoost = XGBClassifier(n_estimators = 29,random_state=2)\n",
        "my_XGBoost.fit(A_train, f_train)"
      ],
      "execution_count": 17,
      "outputs": [
        {
          "output_type": "execute_result",
          "data": {
            "text/plain": [
              "XGBClassifier(base_score=0.5, booster='gbtree', colsample_bylevel=1,\n",
              "              colsample_bynode=1, colsample_bytree=1, gamma=0,\n",
              "              learning_rate=0.1, max_delta_step=0, max_depth=3,\n",
              "              min_child_weight=1, missing=None, n_estimators=29, n_jobs=1,\n",
              "              nthread=None, objective='binary:logistic', random_state=2,\n",
              "              reg_alpha=0, reg_lambda=1, scale_pos_weight=1, seed=None,\n",
              "              silent=None, subsample=1, verbosity=1)"
            ]
          },
          "metadata": {
            "tags": []
          },
          "execution_count": 17
        }
      ]
    },
    {
      "cell_type": "code",
      "metadata": {
        "id": "togcXlR4c3Ug",
        "colab_type": "code",
        "colab": {
          "base_uri": "https://localhost:8080/",
          "height": 34
        },
        "outputId": "720d460f-94bc-44cc-8ae5-2c4285a64b37"
      },
      "source": [
        "XGBooat_accuracy = accuracy_score(f_test, f_predict)\n",
        "print(XGBooat_accuracy)"
      ],
      "execution_count": 18,
      "outputs": [
        {
          "output_type": "stream",
          "text": [
            "0.9555555555555556\n"
          ],
          "name": "stdout"
        }
      ]
    },
    {
      "cell_type": "code",
      "metadata": {
        "id": "JGGGJh8ec3Ui",
        "colab_type": "code",
        "colab": {
          "base_uri": "https://localhost:8080/",
          "height": 51
        },
        "outputId": "9ccb5e52-3bc8-4247-e9f6-f0ad6c09e1e8"
      },
      "source": [
        "#predict Binary model\n",
        "predict_xgboost = my_XGBoost.predict(A_test) \n",
        "predict_prob_xgboost = my_XGBoost.predict_proba(A_test) \n",
        "\n",
        "predict_xgboost = my_XGBoost.predict(A_test)\n",
        "print(predict_xgboost)"
      ],
      "execution_count": 19,
      "outputs": [
        {
          "output_type": "stream",
          "text": [
            "[0 1 1 1 1 1 1 1 0 0 1 1 1 1 1 1 0 0 0 1 0 0 0 0 1 1 0 0 0 1 0 1 1 0 1 1 1\n",
            " 1 1 0 1 1 0 1 1]\n"
          ],
          "name": "stdout"
        }
      ]
    },
    {
      "cell_type": "code",
      "metadata": {
        "id": "7KX0uEblc3Uj",
        "colab_type": "code",
        "colab": {
          "base_uri": "https://localhost:8080/",
          "height": 187
        },
        "outputId": "f056d645-10b2-48cb-8957-87a8ba50f649"
      },
      "source": [
        "from sklearn import metrics\n",
        "\n",
        "xgb_fpr, xgb_tpr, thresholds = metrics.roc_curve(f_test, predict_prob_xgboost[:,1], pos_label=1)\n",
        "print(\"False Positive Rate\")\n",
        "print(xgb_fpr)\n",
        "\n",
        "print(\"True Positive Rate\")\n",
        "print(xgb_tpr)\n",
        "\n",
        "print(\"Area Under the Curve (AUC)\")\n",
        "XGBoost_AUC = metrics.auc(xgb_fpr, xgb_tpr)\n",
        "print(XGBoost_AUC)"
      ],
      "execution_count": 20,
      "outputs": [
        {
          "output_type": "stream",
          "text": [
            "False Positive Rate\n",
            "[0.         0.         0.         0.         0.05882353 0.05882353\n",
            " 0.05882353 0.05882353 0.11764706 0.11764706 0.23529412 0.41176471\n",
            " 0.52941176 1.        ]\n",
            "True Positive Rate\n",
            "[0.         0.17857143 0.25       0.35714286 0.42857143 0.5\n",
            " 0.64285714 0.96428571 0.96428571 1.         1.         1.\n",
            " 1.         1.        ]\n",
            "Area Under the Curve (AUC)\n",
            "0.9621848739495799\n"
          ],
          "name": "stdout"
        }
      ]
    },
    {
      "cell_type": "markdown",
      "metadata": {
        "id": "ZNGo2M36c3Uk",
        "colab_type": "text"
      },
      "source": [
        "g- Use scikit-learn “Random Forest” classifier to predict Cancer based on the training/testing datasets that you built in part (b). Then, calculate and report the accuracy and AUC of your classifier. Use this command to import and define your classifier:\n",
        "from sklearn.ensemble import RandomForestClassifier\n",
        "my_RandomForest =\n",
        "RandomForestClassifier(n_estimators = 29, bootstrap = True, random_state=2)"
      ]
    },
    {
      "cell_type": "code",
      "metadata": {
        "id": "uL-xBL66c3Uk",
        "colab_type": "code",
        "colab": {
          "base_uri": "https://localhost:8080/",
          "height": 153
        },
        "outputId": "db9b4f32-8479-43de-9c26-7f778e092afd"
      },
      "source": [
        "from sklearn.ensemble import RandomForestClassifier\n",
        "my_RandomForest = RandomForestClassifier(n_estimators = 29, bootstrap = True, random_state=2)\n",
        "my_RandomForest.fit(A_train, f_train)"
      ],
      "execution_count": 21,
      "outputs": [
        {
          "output_type": "execute_result",
          "data": {
            "text/plain": [
              "RandomForestClassifier(bootstrap=True, ccp_alpha=0.0, class_weight=None,\n",
              "                       criterion='gini', max_depth=None, max_features='auto',\n",
              "                       max_leaf_nodes=None, max_samples=None,\n",
              "                       min_impurity_decrease=0.0, min_impurity_split=None,\n",
              "                       min_samples_leaf=1, min_samples_split=2,\n",
              "                       min_weight_fraction_leaf=0.0, n_estimators=29,\n",
              "                       n_jobs=None, oob_score=False, random_state=2, verbose=0,\n",
              "                       warm_start=False)"
            ]
          },
          "metadata": {
            "tags": []
          },
          "execution_count": 21
        }
      ]
    },
    {
      "cell_type": "code",
      "metadata": {
        "id": "Sax0XS5Cc3Ul",
        "colab_type": "code",
        "colab": {
          "base_uri": "https://localhost:8080/",
          "height": 51
        },
        "outputId": "f579dda2-b0c9-4425-bf20-0ee86a967a56"
      },
      "source": [
        "f_predict = my_RandomForest.predict(A_test)\n",
        "print(f_predict)"
      ],
      "execution_count": 22,
      "outputs": [
        {
          "output_type": "stream",
          "text": [
            "[0 1 1 1 1 1 1 1 0 1 1 1 1 1 1 1 0 1 0 1 0 0 0 0 1 1 0 0 0 1 0 1 1 0 1 1 1\n",
            " 1 1 0 1 1 0 1 1]\n"
          ],
          "name": "stdout"
        }
      ]
    },
    {
      "cell_type": "code",
      "metadata": {
        "id": "c8NTmJoHc3Un",
        "colab_type": "code",
        "colab": {
          "base_uri": "https://localhost:8080/",
          "height": 34
        },
        "outputId": "4e04a792-fcfb-4ff2-cb09-79b76cbaaea2"
      },
      "source": [
        "RandomForest_accuracy = accuracy_score(f_test, f_predict)\n",
        "print(RandomForest_accuracy)"
      ],
      "execution_count": 23,
      "outputs": [
        {
          "output_type": "stream",
          "text": [
            "0.9555555555555556\n"
          ],
          "name": "stdout"
        }
      ]
    },
    {
      "cell_type": "code",
      "metadata": {
        "id": "dOF5xq6tc3Uo",
        "colab_type": "code",
        "colab": {
          "base_uri": "https://localhost:8080/",
          "height": 51
        },
        "outputId": "0cb43e9b-0315-4ab7-9227-8fcaea74d9e4"
      },
      "source": [
        "#predict Binary model\n",
        "predict_rf = my_RandomForest.predict(A_test) \n",
        "predict_prob_rf = my_RandomForest.predict_proba(A_test) \n",
        "\n",
        "predict_rf = my_RandomForest.predict(A_test)\n",
        "print(predict_rf)"
      ],
      "execution_count": 24,
      "outputs": [
        {
          "output_type": "stream",
          "text": [
            "[0 1 1 1 1 1 1 1 0 1 1 1 1 1 1 1 0 1 0 1 0 0 0 0 1 1 0 0 0 1 0 1 1 0 1 1 1\n",
            " 1 1 0 1 1 0 1 1]\n"
          ],
          "name": "stdout"
        }
      ]
    },
    {
      "cell_type": "code",
      "metadata": {
        "id": "FsBKXpCCc3Up",
        "colab_type": "code",
        "colab": {
          "base_uri": "https://localhost:8080/",
          "height": 153
        },
        "outputId": "9c02c9d1-26ab-4a4e-b474-590b09e8a8fd"
      },
      "source": [
        "from sklearn import metrics\n",
        "\n",
        "rf_fpr, rf_tpr, thresholds = metrics.roc_curve(f_test, predict_prob_rf[:,1], pos_label=1)\n",
        "print(\"False Positive Rate\")\n",
        "print(rf_fpr)\n",
        "\n",
        "print(\"True Positive Rate\")\n",
        "print(rf_tpr)\n",
        "\n",
        "print(\"Area Under the Curve (AUC)\")\n",
        "RandomForest_AUC = metrics.auc(rf_fpr, rf_tpr)\n",
        "print(RandomForest_AUC)"
      ],
      "execution_count": 25,
      "outputs": [
        {
          "output_type": "stream",
          "text": [
            "False Positive Rate\n",
            "[0.         0.05882353 0.05882353 0.05882353 0.05882353 0.05882353\n",
            " 0.05882353 0.29411765 1.        ]\n",
            "True Positive Rate\n",
            "[0.         0.35714286 0.60714286 0.67857143 0.71428571 0.92857143\n",
            " 1.         1.         1.        ]\n",
            "Area Under the Curve (AUC)\n",
            "0.9516806722689075\n"
          ],
          "name": "stdout"
        }
      ]
    },
    {
      "cell_type": "markdown",
      "metadata": {
        "id": "_kRCVSLfc3Uq",
        "colab_type": "text"
      },
      "source": [
        "h- Now, plot the ROC curves of your algorithms in parts (c), (d), (e), (f), (g) in a single plane with different colors along with the name of each method. Show the AUCs on the graph as well."
      ]
    },
    {
      "cell_type": "code",
      "metadata": {
        "id": "iUp8B0Cjc3Uq",
        "colab_type": "code",
        "colab": {
          "base_uri": "https://localhost:8080/",
          "height": 295
        },
        "outputId": "bf554f53-00ae-43d4-d891-37f99a2f5780"
      },
      "source": [
        "# Import matplotlib.pyplot as plot to generate graphs and plot curves\n",
        "import matplotlib.pyplot as plot \n",
        "%matplotlib inline  \n",
        "plot.figure()\n",
        "\n",
        "plot.plot(dt_fpr, dt_tpr, color='red', lw=2, label='ROC Curve DT (area = %0.2f)' % DecisionTree_AUC)\n",
        "plot.plot(bagging_fpr, bagging_tpr, color='pink', lw=2, label='ROC Curve Bagging (area = %0.2f)' % Bagging_AUC)\n",
        "plot.plot(adab_fpr, adab_tpr, color='blue', lw=2, label='ROC Curve AB (area = %0.2f)' % Adaboost_AUC)\n",
        "plot.plot(xgb_fpr, xgb_tpr, color='black', lw=2, label='ROC Curve XB (area = %0.2f)' % XGBoost_AUC)\n",
        "plot.plot(rf_fpr, rf_tpr, color='green', lw=2, label='ROC Curve RF (area = %0.2f)' % RandomForest_AUC)\n",
        "\n",
        "plot.plot([0, 1], [0, 1], color='blue', lw=1, linestyle='--')\n",
        "\n",
        "# Defining The Range \n",
        "plot.xlim([-0.01, 1.0])\n",
        "plot.ylim([0.0, 1.02])\n",
        "\n",
        "plot.xlabel('FPR')\n",
        "plot.ylabel('TPR')\n",
        "plot.title('ROC')\n",
        "plot.legend(loc=\"lower right\")\n",
        "\n",
        "plot.show()"
      ],
      "execution_count": 26,
      "outputs": [
        {
          "output_type": "display_data",
          "data": {
            "image/png": "[encoded data removed]",
            "text/plain": [
              "<Figure size 432x288 with 1 Axes>"
            ]
          },
          "metadata": {
            "tags": []
          }
        }
      ]
    },
    {
      "cell_type": "code",
      "metadata": {
        "id": "R5YCdVvcc3Ur",
        "colab_type": "code",
        "colab": {
          "base_uri": "https://localhost:8080/",
          "height": 102
        },
        "outputId": "ef477d9a-3155-4186-9d4b-7913e6248283"
      },
      "source": [
        "print(\"AUC of Decision Tree = \",DecisionTree_AUC)\n",
        "print(\"AUC of Bagging = \",Bagging_AUC)\n",
        "print(\"AUC of Adaboost = \",Adaboost_AUC)\n",
        "print(\"AUC of XGBosst = \",XGBoost_AUC)\n",
        "print(\"AUC of Random Forest = \",RandomForest_AUC)"
      ],
      "execution_count": 27,
      "outputs": [
        {
          "output_type": "stream",
          "text": [
            "AUC of Decision Tree =  0.8697478991596639\n",
            "AUC of Bagging =  0.9380252100840336\n",
            "AUC of Adaboost =  0.9653361344537815\n",
            "AUC of XGBosst =  0.9621848739495799\n",
            "AUC of Random Forest =  0.9516806722689075\n"
          ],
          "name": "stdout"
        }
      ]
    },
    {
      "cell_type": "code",
      "metadata": {
        "id": "R8W-KWkMc3Us",
        "colab_type": "code",
        "colab": {
          "base_uri": "https://localhost:8080/",
          "height": 102
        },
        "outputId": "b50bc543-2f53-48e9-ea38-657dcc6aefe8"
      },
      "source": [
        "print(\"Accuracy of Decision Tree =\",dt_accuracy)\n",
        "print(\"Accuracy of Bagging\",bagging_accuracy)\n",
        "print(\"Accuracy of AdaBoost =\",adaboost_accuracy)\n",
        "print(\"Accuracy of XGBoost =\",XGBooat_accuracy)\n",
        "print(\"Accuracy of Random Forest =\",RandomForest_accuracy)"
      ],
      "execution_count": 28,
      "outputs": [
        {
          "output_type": "stream",
          "text": [
            "Accuracy of Decision Tree = 0.8666666666666667\n",
            "Accuracy of Bagging 0.9111111111111111\n",
            "Accuracy of AdaBoost = 0.9555555555555556\n",
            "Accuracy of XGBoost = 0.9555555555555556\n",
            "Accuracy of Random Forest = 0.9555555555555556\n"
          ],
          "name": "stdout"
        }
      ]
    },
    {
      "cell_type": "markdown",
      "metadata": {
        "id": "tjETf6dbc3Ut",
        "colab_type": "text"
      },
      "source": [
        "- Which algorithm is the best w.r.t the AUC value?"
      ]
    },
    {
      "cell_type": "markdown",
      "metadata": {
        "id": "F75zgtEmc3Ut",
        "colab_type": "text"
      },
      "source": [
        "AdaBoost"
      ]
    },
    {
      "cell_type": "markdown",
      "metadata": {
        "id": "YK1V8U4Sc3Uu",
        "colab_type": "text"
      },
      "source": [
        "- Which algorithm is the best w.r.t the Accuracy value?"
      ]
    },
    {
      "cell_type": "markdown",
      "metadata": {
        "id": "3fKC9rfrc3Uu",
        "colab_type": "text"
      },
      "source": [
        "AdaBoost, XGBoost, Random Forest"
      ]
    },
    {
      "cell_type": "markdown",
      "metadata": {
        "id": "Mf5udjRMc3Uu",
        "colab_type": "text"
      },
      "source": [
        "- Which algorithm is the best when we want a False Positive Rate of %7?"
      ]
    },
    {
      "cell_type": "markdown",
      "metadata": {
        "id": "LLybm8Woc3Uv",
        "colab_type": "text"
      },
      "source": [
        "Random Forest"
      ]
    }
  ]
}